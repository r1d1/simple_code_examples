{
 "cells": [
  {
   "cell_type": "code",
   "execution_count": 2,
   "metadata": {},
   "outputs": [],
   "source": [
    "import matplotlib.pyplot as plt\n",
    "import seaborn as sns\n",
    "import numpy as np"
   ]
  },
  {
   "cell_type": "code",
   "execution_count": 3,
   "metadata": {},
   "outputs": [
    {
     "data": {
      "text/plain": [
       "[(-135, -90, 0, 90, 180), (496, 773, 1340, 1945, 2463)]"
      ]
     },
     "execution_count": 3,
     "metadata": {},
     "output_type": "execute_result"
    }
   ],
   "source": [
    "#datapoints = [(496,-135), (773,-90), (1340,0), (1945,90), (2463,180)]\n",
    "datapoints = [(-135,496), (-90,773), (0,1340), (90,1945), (180,2463)]\n",
    "dpt_zip = zip(*datapoints)\n",
    "dpt_zip"
   ]
  },
  {
   "cell_type": "code",
   "execution_count": 4,
   "metadata": {},
   "outputs": [
    {
     "data": {
      "text/plain": [
       "(-135, 180, 496, 2463)"
      ]
     },
     "execution_count": 4,
     "metadata": {},
     "output_type": "execute_result"
    }
   ],
   "source": [
    "# Plot of the multi-mapping vs the mapping\n",
    "# simple mapping, data organized as x0, x1 ; y0, y1\n",
    "extreme_pts = [(dpt_zip[0][0], dpt_zip[0][-1]), (dpt_zip[1][0],dpt_zip[1][-1])]\n",
    "plt.plot(extreme_pts[0], extreme_pts[1], c='b', linestyle='--',label='map (minmax)')\n",
    "# multimapping\n",
    "plt.plot(dpt_zip[0], dpt_zip[1], c='g', linestyle='-.', label='multimap (points)')\n",
    "plt.scatter(dpt_zip[0], dpt_zip[1], marker='o', edgecolor='r', facecolor='r', s=50, label='data points')\n",
    "plt.legend()\n",
    "dpt_zip[0][0], dpt_zip[0][-1], dpt_zip[1][0], dpt_zip[1][-1]"
   ]
  },
  {
   "cell_type": "code",
   "execution_count": 6,
   "metadata": {},
   "outputs": [
    {
     "ename": "AttributeError",
     "evalue": "'module' object has no attribute 'glc'",
     "output_type": "error",
     "traceback": [
      "\u001b[0;31m---------------------------------------------------------------------------\u001b[0m",
      "\u001b[0;31mAttributeError\u001b[0m                            Traceback (most recent call last)",
      "\u001b[0;32m<ipython-input-6-3245ff80953f>\u001b[0m in \u001b[0;36m<module>\u001b[0;34m()\u001b[0m\n\u001b[0;32m----> 1\u001b[0;31m \u001b[0mfig\u001b[0m \u001b[0;34m=\u001b[0m \u001b[0mplt\u001b[0m\u001b[0;34m.\u001b[0m\u001b[0mglc\u001b[0m\u001b[0;34m(\u001b[0m\u001b[0;34m)\u001b[0m\u001b[0;34m\u001b[0m\u001b[0m\n\u001b[0m\u001b[1;32m      2\u001b[0m \u001b[0mfig\u001b[0m\u001b[0;34m.\u001b[0m\u001b[0msavefig\u001b[0m\u001b[0;34m(\u001b[0m\u001b[0;34m\"./approximations.png\"\u001b[0m\u001b[0;34m)\u001b[0m\u001b[0;34m\u001b[0m\u001b[0m\n\u001b[1;32m      3\u001b[0m \u001b[0mplt\u001b[0m\u001b[0;34m.\u001b[0m\u001b[0mshow\u001b[0m\u001b[0;34m(\u001b[0m\u001b[0;34m)\u001b[0m\u001b[0;34m\u001b[0m\u001b[0m\n",
      "\u001b[0;31mAttributeError\u001b[0m: 'module' object has no attribute 'glc'"
     ]
    }
   ],
   "source": [
    "fig = plt.glc()\n",
    "fig.savefig(\"./approximations.png\")\n",
    "plt.show()"
   ]
  },
  {
   "cell_type": "code",
   "execution_count": null,
   "metadata": {},
   "outputs": [],
   "source": [
    "# Evaluate numerically the error: we compute the estimation provided\n",
    "# by the simple mapping and compare that versus the multimapping\n",
    "# simple mapping : Y = aX+b\n",
    "def f_simple(x, a, b):\n",
    "    return a*x + b\n",
    "\n",
    "a_coeff = (extreme_pts[1][1] - extreme_pts[1][0]) / (extreme_pts[0][1] - extreme_pts[0][0])\n",
    "# origin value for 0 estimated from 1st datapoint\n",
    "b_coeff1 = extreme_pts[1][0] - a_coeff * extreme_pts[0][0] # value for x = 0\n",
    "# origin value for 0 estimated from last datapoint\n",
    "b_coeff2 = extreme_pts[1][1] - a_coeff * extreme_pts[0][1] # value for x = 0\n",
    "# origin value for 0 estimated from average of extreme datapoint\n",
    "#b_coeff3 = (extreme_pts[1][0] + extreme_pts[1][1])/2 - a_coeff * extreme_pts[0][1] # value for x = 0\n",
    "\n",
    "a_coeff, b_coeff1, b_coeff2"
   ]
  },
  {
   "cell_type": "code",
   "execution_count": null,
   "metadata": {
    "scrolled": true
   },
   "outputs": [],
   "source": [
    "# now we compare f_simple and the multimap points\n",
    "for pt in datapoints:\n",
    "    y_simple1 = f_simple(pt[0], a_coeff, b_coeff1)\n",
    "    y_simple2 = f_simple(pt[0], a_coeff, b_coeff2)\n",
    "    y_multi = pt[1]\n",
    "    # use absolute value (we don't care about the sign of error)\n",
    "    error1 = abs(y_simple1 - y_multi)\n",
    "    error2 = abs(y_simple2 - y_multi)\n",
    "    # relative error assuming the datapoints are the theoretical value\n",
    "    relative_error1 = float(error1) / y_multi\n",
    "    relative_error2 = float(error2) / y_multi\n",
    "    print('x= '+str(pt[0])+', multimap y= '+str(y_multi)+'\\n'\n",
    "          +'map_1: y= '+str(y_simple1)+' abs error= '+str(error1)+' relative error= '+str(100*round(relative_error1,3))+' %, '+ str(round(pt[0]*relative_error1,3))+' deg\\n'\n",
    "          +'map_2: y= '+str(y_simple2)+' abs error= '+str(error2)+' relative error= '+str(100*round(relative_error2,3))+' %, '+ str(round(pt[0]*relative_error2,3))+' deg\\n')"
   ]
  },
  {
   "cell_type": "code",
   "execution_count": null,
   "metadata": {},
   "outputs": [],
   "source": []
  }
 ],
 "metadata": {
  "kernelspec": {
   "display_name": "Python 2",
   "language": "python",
   "name": "python2"
  },
  "language_info": {
   "codemirror_mode": {
    "name": "ipython",
    "version": 2
   },
   "file_extension": ".py",
   "mimetype": "text/x-python",
   "name": "python",
   "nbconvert_exporter": "python",
   "pygments_lexer": "ipython2",
   "version": "2.7.12"
  }
 },
 "nbformat": 4,
 "nbformat_minor": 2
}
